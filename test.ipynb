{
 "cells": [
  {
   "cell_type": "code",
   "execution_count": 1,
   "metadata": {},
   "outputs": [],
   "source": [
    "# !pip install langchain-openai\n",
    "from langchain_core.tools import tool \n",
    "from langchain_core.messages import SystemMessage, trim_messages, AIMessage, HumanMessage, ToolMessage, AIMessageChunk\n",
    "from typing import Callable\n",
    "from dotenv import load_dotenv\n",
    "from langchain_openai import ChatOpenAI, AzureChatOpenAI\n",
    "# AzureChatOpenAIで、トークン計算をする場合は、modelパラメータに使っているモデル情報を与えないといけない\n",
    "# これは、tiktokenによってパースされるため、それに準拠する必要がある。\n",
    "azure_llm = AzureChatOpenAI(azure_deployment='test',\n",
    "                      api_version='2024-02-15-preview',\n",
    "                      azure_endpoint='https://test.com',\n",
    "                      model='gpt-4o'\n",
    "                      )\n",
    "\n",
    "load_dotenv()\n",
    "\n",
    "@tool \n",
    "def add(a: int, b: int) -> int:\n",
    "    \"\"\"Adds a and b.\"\"\"\n",
    "    return a + b \n",
    "\n",
    "@tool \n",
    "def multiply(a: int, b: int) -> int:\n",
    "    \"\"\"Multiplies a and b.\"\"\"\n",
    "    return a * b \n",
    "\n",
    "tools = [add, multiply] \n",
    "tool_dict = {'add': add, \n",
    "            'multiply': multiply}\n",
    "\n",
    "def tool_call_from_ai_message(tool_dict: dict[str, Callable], tool_chunks: AIMessageChunk, messages: list):\n",
    "    messages_temp = messages.copy()\n",
    "    for tool_info in tool_chunks.tool_calls:\n",
    "        print(f'CALL: {tool_info[\"name\"]}, {tool_info[\"args\"]}')\n",
    "        tool_output = tool_dict[tool_info['name'].lower()].invoke(tool_info['args'])\n",
    "        messages_temp.append(ToolMessage(tool_output, tool_call_id=tool_info['id']))\n",
    "    return messages_temp"
   ]
  },
  {
   "cell_type": "code",
   "execution_count": 2,
   "metadata": {},
   "outputs": [],
   "source": [
    "llm = ChatOpenAI(model='gpt-4o-mini', temperature=0.0,\n",
    "                 max_tokens=100) \n",
    "llm_with_tools = llm.bind_tools(tools) \n",
    "\n",
    "trimmer = trim_messages(\n",
    "    max_tokens=10_000,\n",
    "    strategy='last',\n",
    "    token_counter=llm_with_tools,\n",
    "    include_system=True,\n",
    "    allow_partial=False # コンテンツの途中で切って、調整する場合(lastから数えて、max_tokensが入るところで切れる)\n",
    ")\n",
    "\n"
   ]
  },
  {
   "cell_type": "code",
   "execution_count": 3,
   "metadata": {},
   "outputs": [
    {
     "name": "stdout",
     "output_type": "stream",
     "text": [
      "Tool Calling Start!!\n",
      "CALL: multiply, {'a': 3, 'b': 12}\n",
      "CALL: add, {'a': 11, 'b': 49}\n",
      "The result of \\(3 \\times 12\\) is 36, and the result of \\(11 + 49\\) is 60.\n",
      "finish_reason: stop\n"
     ]
    }
   ],
   "source": [
    "query = 'What is 3 * 12? Also, what is 11 + 49?'\n",
    "\n",
    "# query = '3*(12 +30)は？'\n",
    "messages = [\n",
    "    HumanMessage(query)\n",
    "]\n",
    "\n",
    "is_answer = False\n",
    "\n",
    "# AI が関数呼び出しではなく、回答を生成したら終わり\n",
    "while not is_answer:\n",
    "    aggregate = None \n",
    "    is_finish = False\n",
    "    finish_reason = None \n",
    "    async for chunk in llm_with_tools.astream(messages, stream_usage=True):\n",
    "        \n",
    "        aggregate = chunk if aggregate is None else aggregate + chunk \n",
    "        if is_finish:\n",
    "            messages.append(aggregate)\n",
    "            \n",
    "            if finish_reason == 'tool_calls': \n",
    "                print('Tool Calling Start!!')\n",
    "                messages = tool_call_from_ai_message(tool_dict, aggregate, messages)\n",
    "            else:\n",
    "                print()\n",
    "                print(f'finish_reason: {finish_reason}')\n",
    "                is_answer = True \n",
    "            break \n",
    "        \n",
    "        if ('finish_reason' in chunk.response_metadata):\n",
    "            finish_reason = chunk.response_metadata['finish_reason'] \n",
    "            is_finish = True \n",
    "            \n",
    "        \n",
    "        if len(chunk.content) == 0 and len(chunk.tool_call_chunks) == 0:\n",
    "            continue \n",
    "        \n",
    "        if len(chunk.tool_call_chunks) > 0:\n",
    "            continue \n",
    "        \n",
    "        # AI回答文\n",
    "        print(chunk.content, end='')\n",
    "    \n",
    "    if is_answer:\n",
    "        break "
   ]
  },
  {
   "cell_type": "code",
   "execution_count": 4,
   "metadata": {},
   "outputs": [],
   "source": [
    "ai_message = messages[1]"
   ]
  },
  {
   "cell_type": "code",
   "execution_count": 8,
   "metadata": {},
   "outputs": [
    {
     "name": "stdout",
     "output_type": "stream",
     "text": [
      "{\n",
      "  \"content\": \"\",\n",
      "  \"additional_kwargs\": {\n",
      "    \"tool_calls\": [\n",
      "      {\n",
      "        \"index\": 0,\n",
      "        \"id\": \"call_to2SgrJZunK8sfdhwqPWjqtS\",\n",
      "        \"function\": {\n",
      "          \"arguments\": \"{\\\"a\\\": 3, \\\"b\\\": 12}\",\n",
      "          \"name\": \"multiply\"\n",
      "        },\n",
      "        \"type\": \"function\"\n",
      "      },\n",
      "      {\n",
      "        \"index\": 1,\n",
      "        \"id\": \"call_QA7cXz6hjb0EIyNCa6HIBNkF\",\n",
      "        \"function\": {\n",
      "          \"arguments\": \"{\\\"a\\\": 11, \\\"b\\\": 49}\",\n",
      "          \"name\": \"add\"\n",
      "        },\n",
      "        \"type\": \"function\"\n",
      "      }\n",
      "    ]\n",
      "  },\n",
      "  \"response_metadata\": {\n",
      "    \"finish_reason\": \"tool_calls\",\n",
      "    \"model_name\": \"gpt-4o-mini-2024-07-18\",\n",
      "    \"system_fingerprint\": \"fp_483d39d857\"\n",
      "  },\n",
      "  \"type\": \"AIMessageChunk\",\n",
      "  \"name\": null,\n",
      "  \"id\": \"run-3b2d44f4-49f7-4402-82b3-d7fcf0c43a33\",\n",
      "  \"example\": false,\n",
      "  \"tool_calls\": [\n",
      "    {\n",
      "      \"name\": \"multiply\",\n",
      "      \"args\": {\n",
      "        \"a\": 3,\n",
      "        \"b\": 12\n",
      "      },\n",
      "      \"id\": \"call_to2SgrJZunK8sfdhwqPWjqtS\",\n",
      "      \"type\": \"tool_call\"\n",
      "    },\n",
      "    {\n",
      "      \"name\": \"add\",\n",
      "      \"args\": {\n",
      "        \"a\": 11,\n",
      "        \"b\": 49\n",
      "      },\n",
      "      \"id\": \"call_QA7cXz6hjb0EIyNCa6HIBNkF\",\n",
      "      \"type\": \"tool_call\"\n",
      "    }\n",
      "  ],\n",
      "  \"invalid_tool_calls\": [],\n",
      "  \"usage_metadata\": {\n",
      "    \"input_tokens\": 87,\n",
      "    \"output_tokens\": 50,\n",
      "    \"total_tokens\": 137\n",
      "  },\n",
      "  \"tool_call_chunks\": [\n",
      "    {\n",
      "      \"name\": \"multiply\",\n",
      "      \"args\": \"{\\\"a\\\": 3, \\\"b\\\": 12}\",\n",
      "      \"id\": \"call_to2SgrJZunK8sfdhwqPWjqtS\",\n",
      "      \"index\": 0,\n",
      "      \"type\": \"tool_call_chunk\"\n",
      "    },\n",
      "    {\n",
      "      \"name\": \"add\",\n",
      "      \"args\": \"{\\\"a\\\": 11, \\\"b\\\": 49}\",\n",
      "      \"id\": \"call_QA7cXz6hjb0EIyNCa6HIBNkF\",\n",
      "      \"index\": 1,\n",
      "      \"type\": \"tool_call_chunk\"\n",
      "    }\n",
      "  ]\n",
      "}\n"
     ]
    }
   ],
   "source": [
    "print(ai_message.json(indent=2))"
   ]
  },
  {
   "cell_type": "code",
   "execution_count": 9,
   "metadata": {},
   "outputs": [
    {
     "name": "stdout",
     "output_type": "stream",
     "text": [
      "{\n",
      "  \"content\": \"36\",\n",
      "  \"additional_kwargs\": {},\n",
      "  \"response_metadata\": {},\n",
      "  \"type\": \"tool\",\n",
      "  \"name\": null,\n",
      "  \"id\": null,\n",
      "  \"tool_call_id\": \"call_to2SgrJZunK8sfdhwqPWjqtS\",\n",
      "  \"artifact\": null,\n",
      "  \"status\": \"success\"\n",
      "}\n"
     ]
    }
   ],
   "source": [
    "print(messages[2].json(indent=2))"
   ]
  },
  {
   "cell_type": "code",
   "execution_count": 18,
   "metadata": {},
   "outputs": [
    {
     "data": {
      "text/plain": [
       "[SystemMessage(content='Youa are AI Assistant'),\n",
       " HumanMessage(content='What is human?'),\n",
       " AIMessage(content='Human is human'),\n",
       " HumanMessage(content='What is 3*12?')]"
      ]
     },
     "execution_count": 18,
     "metadata": {},
     "output_type": "execute_result"
    }
   ],
   "source": [
    "\n",
    "trimmer = trim_messages(\n",
    "    max_tokens=100,\n",
    "    strategy='last',\n",
    "    token_counter=llm_with_tools,\n",
    "    include_system=True,\n",
    "    allow_partial=False # コンテンツの途中で切って、調整する場合(lastから数えて、max_tokensが入るところで切れる)\n",
    ")\n",
    "\n",
    "messages = [\n",
    "    SystemMessage(\"Youa are AI Assistant\"),\n",
    "    HumanMessage(\"What is human?\"),\n",
    "    AIMessage(\"Human is human\"),\n",
    "    HumanMessage(\"What is 3*12?\")\n",
    "]\n",
    "\n",
    "trimmer.invoke(messages,)\n",
    "\n"
   ]
  },
  {
   "cell_type": "code",
   "execution_count": 173,
   "metadata": {},
   "outputs": [
    {
     "data": {
      "text/plain": [
       "(pydantic.v1.main.ModelMetaclass, pydantic.v1.main.ModelMetaclass)"
      ]
     },
     "execution_count": 173,
     "metadata": {},
     "output_type": "execute_result"
    }
   ],
   "source": [
    "type(HumanMessage), type(AIMessage)"
   ]
  },
  {
   "cell_type": "code",
   "execution_count": 10,
   "metadata": {},
   "outputs": [
    {
     "data": {
      "text/plain": [
       "\"{'a': 12, 'b': 32}\""
      ]
     },
     "execution_count": 10,
     "metadata": {},
     "output_type": "execute_result"
    }
   ],
   "source": [
    "a = {'a': 12, 'b': 32}\n",
    "str(a)"
   ]
  },
  {
   "cell_type": "code",
   "execution_count": 11,
   "metadata": {},
   "outputs": [
    {
     "data": {
      "text/plain": [
       "'{\"a\": 12, \"b\": 32}'"
      ]
     },
     "execution_count": 11,
     "metadata": {},
     "output_type": "execute_result"
    }
   ],
   "source": [
    "import json \n",
    "json.dumps(a)"
   ]
  },
  {
   "cell_type": "code",
   "execution_count": null,
   "metadata": {},
   "outputs": [],
   "source": []
  }
 ],
 "metadata": {
  "kernelspec": {
   "display_name": "fastapi_demo",
   "language": "python",
   "name": "python3"
  },
  "language_info": {
   "codemirror_mode": {
    "name": "ipython",
    "version": 3
   },
   "file_extension": ".py",
   "mimetype": "text/x-python",
   "name": "python",
   "nbconvert_exporter": "python",
   "pygments_lexer": "ipython3",
   "version": "3.10.0"
  }
 },
 "nbformat": 4,
 "nbformat_minor": 2
}
